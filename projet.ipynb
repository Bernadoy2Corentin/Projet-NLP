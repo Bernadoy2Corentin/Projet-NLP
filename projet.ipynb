{
 "cells": [
  {
   "cell_type": "markdown",
   "metadata": {},
   "source": [
    "# Projet 4 Bernadoy Corentin"
   ]
  },
  {
   "cell_type": "markdown",
   "metadata": {},
   "source": [
    "Le but de ce projet est de créer une balise html `<a>` autour des textes de référencés dans les différents arrêtés municipaux mis à notre disposition."
   ]
  },
  {
   "cell_type": "markdown",
   "metadata": {},
   "source": [
    "## Imports"
   ]
  },
  {
   "cell_type": "code",
   "execution_count": 187,
   "metadata": {},
   "outputs": [],
   "source": [
    "import os\n",
    "import bs4\n",
    "import regex as re"
   ]
  },
  {
   "cell_type": "markdown",
   "metadata": {},
   "source": [
    "## Stratégie et étude du jeu de donnée"
   ]
  },
  {
   "cell_type": "markdown",
   "metadata": {},
   "source": [
    "Pour une première approche, nous allons tenter d'utiliser un maximum les expressions régulières. En effet, il s'agit d'une approche simple et si elle réussit, permet de consitituer un premier jeu de données labélisées pour une étude par machine learning. "
   ]
  },
  {
   "cell_type": "markdown",
   "metadata": {},
   "source": [
    "Tout d'abord on établit la structure que l'on veut suivre : on va extraire les textes présents dans les balises via Beautifulsoup, recherche la présence de textes de lois dans ces textes extraits, les encadrer par une balise `<a>` puis on va sauvegarder le fichier html modifié dans un fichier séparé."
   ]
  },
  {
   "cell_type": "markdown",
   "metadata": {},
   "source": [
    "### Création des dossier de dépôt des résultats"
   ]
  },
  {
   "cell_type": "markdown",
   "metadata": {},
   "source": [
    "On commence par créer les dossier de résultats dans l'arborescence actuelle"
   ]
  },
  {
   "cell_type": "code",
   "execution_count": 188,
   "metadata": {},
   "outputs": [],
   "source": [
    "#cellule pour créer les dossiers de résultats\n",
    "root = \"./data/\"\n",
    "os.makedirs(root + \"results/\", exist_ok= True)\n",
    "sub_data_dirs = next(os.walk(root + 'data/'))[1]\n",
    "for sub_data_dir in sub_data_dirs:\n",
    "    os.makedirs(root + \"results/\" + sub_data_dir, exist_ok= True)"
   ]
  },
  {
   "cell_type": "markdown",
   "metadata": {},
   "source": [
    "### Fonctions utiles"
   ]
  },
  {
   "cell_type": "markdown",
   "metadata": {},
   "source": [
    "Il nous faut trois fonctions pour établir la structure : une première fonction `find_regex` pour évaluer les matchs avec les regex et déterminer leur position dans le texte, une fonction `rewritting` pour réécrire le texte avec les balises et enfin une fonction  `pipeline` qui itère les deux premières sur chaque texte de chaque fichier et qui sauvegarde les résultats"
   ]
  },
  {
   "cell_type": "markdown",
   "metadata": {},
   "source": [
    "On écrit d'abord la list des regex que l'on va utiliser pour détecter les références à des textes de lois (plus de détails sur comment établir les regexs dans la partie suivante)"
   ]
  },
  {
   "cell_type": "code",
   "execution_count": 189,
   "metadata": {},
   "outputs": [],
   "source": [
    "regex_list = [\n",
    "    r\"directive[\\sA-Za-zÀ-ÿ]+\\d{4}/\\d+/[A-Z]{2}\",\n",
    "    r\"[Dd]écret(?:\\s+n°|\\s+no)?\\s*[\\d\\-/.]+(?:\\s+du\\s+\\d{1,2}(?:er)?\\s+[a-zéû]+\\s+\\d{4})?|[Dd]écret\\s+du\\s+\\d{1,2}(?:er)?\\s+[a-zéû]+\\s+\\d{4}\",\n",
    "    r\"article(.+?)[Cc]ode\\s+de\\s+l[’']environnement|[\\sA-Za-zÀ-ÿ]{2}\\s+[Cc]ode\\s+de\\s+l[’']environnement\",\n",
    "    r\"[Aa]rrêté\\s[Pp]réfectora[lux][\\sA-Aa-zÀ-ÿ]+(?:\\s+n°|\\s+no)\\s*[\\d\\-]+|[Aa]rrêté[s\\s]+[Pp]réfectora[lux][\\sA-Aa-zÀ-ÿ]+du\\s+\\d{1,2}(?:er)?\\s+[a-zéû]+\\s+\\d{4}\",\n",
    "    r\"\\s[Ll]oi(?:\\s+n°|\\s+no)?\\s*[\\d\\-\\s]+(?:du\\s+\\d{1,2}(?:er)?\\s+[a-zéû]+\\s+\\d{4})?\",\n",
    "]"
   ]
  },
  {
   "cell_type": "code",
   "execution_count": 190,
   "metadata": {},
   "outputs": [],
   "source": [
    "cde = regex_list[-1]"
   ]
  },
  {
   "cell_type": "code",
   "execution_count": 191,
   "metadata": {},
   "outputs": [
    {
     "name": "stdout",
     "output_type": "stream",
     "text": [
      "(10, 43)\n",
      " loi n° 75-633 du 15 juillet 1975\n",
      "\n",
      "    VU la loi n° 75-633 du 15 juillet 1975 modifiée relative à l'élimination des déchets et à la récupération des matériaux ;\n",
      "   \n",
      "(10, 43)\n",
      " loi n° 76-663 du 19 juillet 1976\n",
      "\n",
      "    VU la loi n° 76-663 du 19 juillet 1976 modifiée relative aux installations classées pour la protection de l'environnement ;\n",
      "   \n",
      "(10, 40)\n",
      " loi n° 92-3 du 3 janvier 1992\n",
      "\n",
      "    VU la loi n° 92-3 du 3 janvier 1992 sur l'eau ;\n",
      "   \n",
      "(87, 110)\n",
      " loi du 19 juillet 1976\n",
      "\n",
      "    VU le décret n° 77-1133 du 21 septembre 1977 modifié pris pour l'application de la loi du 19 juillet 1976 précitée ;\n",
      "   \n",
      "(39, 62)\n",
      " loi du 19 juillet 1976\n",
      "\n",
      "     Conformément à l'article 17 de la loi du 19 juillet 1976 modifiée, les installations visées ci-dessus sont soumises à la perception d'une taxe unique, exigible à la signature du présent arrêté, et d'une redevance annuelle, établie sur la base de la situation administrative de l'établissement en activité au 1er janvier.\n",
      "    \n",
      "(138, 161)\n",
      " loi du 19 juillet 1976\n",
      "\n",
      "     Tout incident grave ou accident de nature à porter atteinte à l'environnement (c'est-à-dire aux intérêts visés à l'article 1er de la loi du 19 juillet 1976 modifiée) doit être immédiatement signalé à l'inspecteur des installations classées à qui l'exploitant remet, dans les plus brefs délais, un rapport précis et détaillé des causes et des circonstances de l'accident ainsi que les mesures envisagées pour éviter son renouvellement.\n",
      "    \n",
      "(367, 390)\n",
      " loi du 19 juillet 1976\n",
      "\n",
      "     Au moins un mois avant l'arrêt définitif de ses installations, l'exploitant doit adresser une notification au préfet du département, conformément au décret n° 77.1133 du 21 septembre 1977 modifié (article 34.1). Elle doit préciser les mesures prises ou prévues pour assurer la protection de l'environnement (c'est-à-dire des intérêts visés à l'article 1er de la loi du 19 juillet 1976 modifiée), notamment en ce qui concerne :\n",
      "     \n",
      "\n",
      "       l'élimination des produits dangereux et des déchets présents sur le site,\n",
      "      \n",
      "\n",
      "       la dépollution des sols et des eaux souillés éventuellement pollués,\n",
      "      \n",
      "\n",
      "       la protection des installations pouvant présenter des risques d'accidents (puits, citerne, etc.),\n",
      "      \n",
      "\n",
      "       la surveillance à posteriori de l'impact de l'installation sur son environnement.\n",
      "      \n",
      "\n",
      "\n",
      "(132, 155)\n",
      " loi du 19 juillet 1976\n",
      "\n",
      "     En cas d'impossibilité de valorisation, les mâchefers devront être éliminés dans des installations automatiques au titre de la loi du 19 juillet 1976.\n",
      "    \n",
      "(180, 203)\n",
      " loi du 19 juillet 1976\n",
      "\n",
      "     Les résidus de l'épuration des fumées ne pourront être admis que dans les seules installations explicitement autorisées à cet effet par arrêté préfectoral pris au titre de la loi du 19 juillet 1976. Après stabilisation, ils seront mis en centre de stockage pour déchets ultimes (ex : décharge de Classe I) ou dans un centre spécifique pour ce type de résidus, selon les conditions définies par l'arrêté ministériel du 18 décembre 1992 modifié par arrêté ministériel du 19 février 1994.\n",
      "    \n",
      "(203, 236)\n",
      " loi n° 75-695 du 19 juillet 1975\n",
      "\n",
      "     L'élimination des déchets qui ne peuvent être valorisés à l'intérieur de l'établissement ou de ses dépendances, doit être assurée dans des installations dûment autorisées à cet effet au titre de la loi n° 75-695 du 19 juillet 1975 modifiée relative aux installations classées. L'exploitant doit être en mesure d'en justifier l'élimination. Les documents justificatifs doivent être conservés pendant 3 ans.\n",
      "    \n"
     ]
    }
   ],
   "source": [
    "### only for tests (if somebody is curious enough to look until here in the commits :))\n",
    "\n",
    "with open('data/data/0022200009/1999-12-21_AP-auto_pixtral.html', 'r') as f:\n",
    "    soup = bs4.BeautifulSoup(f, 'html')   \n",
    "    whole_text = soup.find_all(['div', 'td', 'h2'])\n",
    "    for tag in whole_text:\n",
    "        for occurence in re.finditer(cde, tag.text):\n",
    "            print((occurence.start(0),occurence.end(0)))\n",
    "            print(tag.text[occurence.start(0):occurence.end(0)])\n",
    "            print(tag.text)"
   ]
  },
  {
   "cell_type": "markdown",
   "metadata": {},
   "source": [
    "On écrit les fonctions"
   ]
  },
  {
   "cell_type": "code",
   "execution_count": 192,
   "metadata": {},
   "outputs": [],
   "source": [
    "def find_regex(regex_list, text):\n",
    "    occurences = []\n",
    "    for regex in regex_list:\n",
    "        for occurence in re.finditer(regex, text):\n",
    "            occurences.append((occurence.start(0),occurence.end(0)))\n",
    "    return((len(occurences) > 0), occurences)"
   ]
  },
  {
   "cell_type": "code",
   "execution_count": 193,
   "metadata": {},
   "outputs": [],
   "source": [
    "def rewriting(soup, text, occurences):\n",
    "    for occ in occurences:\n",
    "        original_text = text.text\n",
    "        prefix = original_text[:occ[0]]\n",
    "        wrapped = original_text[occ[0]:occ[1]]\n",
    "        suffix = original_text[occ[1]:]\n",
    "\n",
    "        text.string = ''\n",
    "\n",
    "        text.append(prefix)\n",
    "\n",
    "        a_tag = soup.new_tag('a')\n",
    "        a_tag.string = wrapped\n",
    "        text.append(a_tag)\n",
    "\n",
    "        text.append(suffix)"
   ]
  },
  {
   "cell_type": "code",
   "execution_count": 194,
   "metadata": {},
   "outputs": [],
   "source": [
    "root = \"./data/\"\n",
    "def pipeline(root = root):\n",
    "    data_dirs = root + 'data/'\n",
    "    sub_data_dirs = next(os.walk(data_dirs))[1]\n",
    "    res_dirs = root + 'results/'\n",
    "    for sub_data_dir in sub_data_dirs:\n",
    "        file_names = next(os.walk(data_dirs + sub_data_dir + '/'))[2]\n",
    "        for file_name in file_names:\n",
    "            data_path = data_dirs + sub_data_dir + '/' + file_name\n",
    "            res_data_path = res_dirs + sub_data_dir + '/' + file_name[:-5] + '_results.html'\n",
    "            print(data_path) # à retirer à la fin : uniquement pour du troubleshooting\n",
    "            with open(data_path, 'r') as f:\n",
    "                soup = bs4.BeautifulSoup(f, 'html')   \n",
    "                whole_text = soup.find_all(['div', 'td', 'h2'])\n",
    "                for tag in whole_text:\n",
    "                    if (not(tag.find('h1'))): # on exclue le div qui contient le titre, car ce dernier contient toujours le nom du texte présenté dans le document, ce qui n'est pas une référence externe\n",
    "                        found, occurences = find_regex(regex_list, tag.text)\n",
    "                        if found:\n",
    "                            rewriting(soup, tag, occurences)\n",
    "\n",
    "            with open(res_data_path, 'w', encoding= \"utf-8\") as f:\n",
    "                    f.write(str(soup))"
   ]
  },
  {
   "cell_type": "code",
   "execution_count": 195,
   "metadata": {},
   "outputs": [
    {
     "name": "stdout",
     "output_type": "stream",
     "text": [
      "./data/data/0003013459/2020-04-20_AP-auto_initial_pixtral.html\n",
      "./data/data/0003013459/2021-09-24_AP-auto_refonte_pixtral.html\n",
      "./data/data/0003013459/2023-02-23_APC-auto_pixtral.html\n",
      "./data/data/0005205103/2002-12-11_AP-auto_initial_pixtral.html\n",
      "./data/data/0005205103/2004-04-16_AP-auto_refonte_pixtral.html\n",
      "./data/data/0005205103/2004-05-04_APC-auto_pixtral.html\n",
      "./data/data/0005205103/2004-05-04_APC-TAR_pixtral.html\n",
      "./data/data/0005205103/2006-01-31_AP-audit_pixtral.html\n",
      "./data/data/0005205103/2007-10-25_AP-auto_refonte_pixtral.html\n",
      "./data/data/0005205103/2008-08-14_AP-radioactif_pixtral.html\n",
      "./data/data/0005205103/2008-11-26_AP-audit_pixtral.html\n",
      "./data/data/0005205103/2009-09-11_AP-auto_refonte_pixtral.html\n",
      "./data/data/0005205103/2010-04-02_AP-MU_pixtral.html\n",
      "./data/data/0005205103/2011-07-18_AP-RSDE_pixtral.html\n",
      "./data/data/0005205103/2012-01-11_AP-auto_refonte_pixtral.html\n",
      "./data/data/0005205103/2012-01-11_AP-auto_refonte_pixtral_old.html\n",
      "./data/data/0005205103/2013-10-23_AP-auto_refonte_pixtral.html\n",
      "./data/data/0005205103/2014-07-04_AP-garanties-financie╠Çres_pixtral.html\n",
      "./data/data/0005205103/2016-03-02_APC-auto_pixtral.html\n",
      "./data/data/0005205103/2017-12-21_AP-MU_pixtral.html\n",
      "./data/data/0005205103/2018-05-02_APC-auto_pixtral.html\n",
      "./data/data/0005205103/2018-12-04_APC-auto_pixtral.html\n",
      "./data/data/0005205103/2019-02-05_APC-auto_pixtral.html\n",
      "./data/data/0005205103/2019-08-08_AP-rejets_pixtral.html\n",
      "./data/data/0005205103/2020-04-02_APC-auto_temporaire_pixtral.html\n",
      "./data/data/0005205103/2020-10-16_AP-rejets_refonte_pixtral.html\n",
      "./data/data/0005205103/2021-06-30_APC-auto_pixtral.html\n",
      "./data/data/0005205103/2021-08-05_APC-auto_pixtral.html\n",
      "./data/data/0005205103/2023-10-16_AP-auto_modificatif_pixtral.html\n",
      "./data/data/0005205103/2024-06-21_AP-MD_pixtral.html\n",
      "./data/data/0005205103/2024-09-05_AP-PFAS_pixtral.html\n",
      "./data/data/0005302209/2004-12-10_AP-auto_refonte_pixtral.html\n",
      "./data/data/0005302209/2010-08-11_APC-auto_pixtral.html\n",
      "./data/data/0005302209/2011-02-01_APC-auto_pixtral.html\n",
      "./data/data/0005302209/2012-02-02_APC-auto_pixtral.html\n",
      "./data/data/0005302209/2012-12-26_APC-auto_pixtral.html\n",
      "./data/data/0005302209/2015-09-10_APC-auto_pixtral.html\n",
      "./data/data/0005302209/2016-05-10_APC-RSDE_pixtral.html\n",
      "./data/data/0005302209/2021-03-10_AP-auto_refonte_pixtral.html\n",
      "./data/data/0005302209/2022-12-06_APC-auto_pixtral.html\n",
      "./data/data/0005302750/2010-07-16_AP-auto_refonte_pixtral.html\n",
      "./data/data/0005302750/2011-01-13_APC-auto_pixtral.html\n",
      "./data/data/0005302750/2013-11-25_APC-auto_pixtral.html\n",
      "./data/data/0005302750/2018-01-19_APC-auto_pixtral.html\n",
      "./data/data/0005302750/2018-10-23_AP-MD_pixtral.html\n",
      "./data/data/0005302750/2019-05-23_AP-audit_pixtral.html\n",
      "./data/data/0005302750/2020-04-24_APC-e╠üpandage_pixtral.html\n",
      "./data/data/0005302750/2020-09-02_APC-e╠üpandage_pixtral.html\n",
      "./data/data/0005302750/2021-05-12_APC-e╠üpandage_pixtral.html\n",
      "./data/data/0005302750/2021-06-11_AP-audit_pixtral.html\n",
      "./data/data/0005302750/2021-06-18_APC-auto_pixtral.html\n",
      "./data/data/0005302750/2021-08-20_APC-e╠üpandage_pixtral.html\n",
      "./data/data/0005302750/2021-10-04_APC-e╠üpandage_pixtral.html\n",
      "./data/data/0005302750/2022-04-08_APC-e╠üpandage_pixtral.html\n",
      "./data/data/0005302750/2022-05-12_AP-pompage_pixtral.html\n",
      "./data/data/0005302750/2022-08-08_APC-e╠üpandage_pixtral.html\n",
      "./data/data/0005302750/2022-11-07_APC-auto_pixtral.html\n",
      "./data/data/0005302750/2023-12-22_AP-MD_pixtral.html\n",
      "./data/data/0005302849/2005-11-07_AP-auto_refonte_pixtral.html\n",
      "./data/data/0005302849/2010-01-06_APC-RSDE_pixtral.html\n",
      "./data/data/0005302849/2020-03-05_AP-MD_pixtral.html\n",
      "./data/data/0005302849/2021-06-24_AP-audit_pixtral.html\n",
      "./data/data/0005303622/1994-08-03_AP-auto_refonte_pixtral.html\n",
      "./data/data/0005303622/1999-05-17_APC-auto_pixtral.html\n",
      "./data/data/0005303622/2010-05-04_APC-auto_pixtral.html\n",
      "./data/data/0005303622/2010-12-30_APC-RSDE_pixtral.html\n",
      "./data/data/0005303622/2012-04-13_APC-audit_pixtral.html\n",
      "./data/data/0005303622/2020-05-29_AP-MD_pixtral.html\n",
      "./data/data/0005303622/2021-10-01_APC-auto_pixtral.html\n",
      "./data/data/0005303622/2023-02-02_AP-MD_pixtral.html\n",
      "./data/data/0005303622/2024-09-06_APC-auto_pixtral.html\n",
      "./data/data/0005303674/1993-03-23_AP-auto_pixtral.html\n",
      "./data/data/0005303674/1999-03-30_APC-ammoniac_pixtral.html\n",
      "./data/data/0005303674/2000-05-03_APC-forage_pixtral.html\n",
      "./data/data/0005303674/2006-12-22_APC-e╠üpandage_pixtral.html\n",
      "./data/data/0005303674/2009-12-18_APC-RSDE_pixtral.html\n",
      "./data/data/0005303674/2010-03-11_APC-auto_pixtral.html\n",
      "./data/data/0005303674/2012-12-27_APC-auto_pixtral.html\n",
      "./data/data/0005303674/2012-12-27_APC-RSDE_pixtral.html\n",
      "./data/data/0005303674/2015-04-15_APC-auto_pixtral.html\n",
      "./data/data/0005303674/2020-01-23_APC-auto_pixtral.html\n",
      "./data/data/0005303674/2020-04-29_AP-MD_pixtral.html\n",
      "./data/data/0005303674/2021-02-04_AP-MD_pixtral.html\n",
      "./data/data/0005303674/2021-04-01_AP-MD_pixtral.html\n",
      "./data/data/0005303674/2021-04-30_AP-MD-amende_pixtral.html\n",
      "./data/data/0005303674/2021-04-30_AP-MD_pixtral.html\n",
      "./data/data/0005303674/2023-05-24_APC-auto_pixtral.html\n",
      "./data/data/0005303674/2023-07-20_AP-MD_pixtral.html\n",
      "./data/data/0005804966/2011-02-24_AP-auto_pixtral.html\n",
      "./data/data/0005804966/2017-01-26_APC-garanties-financie╠Çres_pixtral.html\n",
      "./data/data/0005804966/2018-07-13_AP-auto_refonte_pixtral.html\n",
      "./data/data/0005900110/2002-03-04_AP-auto_refonte_pixtral.html\n",
      "./data/data/0006400001/1978-05-24_AP-auto_pixtral.html\n",
      "./data/data/0006400001/1994-05-24_APC-auto_pixtral.html\n",
      "./data/data/0006400001/2001-08-07_APC-auto_pixtral.html\n",
      "./data/data/0006400001/2001-10-05_APC-auto_temporaire_pixtral.html\n",
      "./data/data/0006400001/2002-07-30_AP-MD_pixtral.html\n",
      "./data/data/0006400001/2002-08-10_APC-auto_pixtral.html\n",
      "./data/data/0006400001/2003-03-12_AP-audit_pixtral.html\n",
      "./data/data/0006400001/2003-07-31_APC-auto_pixtral.html\n",
      "./data/data/0006400001/2004-06-08_AP-MU_pixtral.html\n",
      "./data/data/0006400001/2005-11-07_AP-audit_pixtral.html\n",
      "./data/data/0006400001/2006-07-26_AP-audit_pixtral.html\n",
      "./data/data/0006400001/2006-09-25_APC-auto_pixtral.html\n",
      "./data/data/0006400001/2007-11-27_AP-MD_pixtral.html\n",
      "./data/data/0006400001/2008-05-30_AP-audit_pixtral.html\n",
      "./data/data/0006400001/2008-07-10_AP-audit_pixtral.html\n",
      "./data/data/0006400001/2010-03-19_AP-RSDE_pixtral.html\n",
      "./data/data/0006400001/2011-09-30_APC-auto_pixtral.html\n",
      "./data/data/0006400001/2012-08-03_AP-audit_pixtral.html\n",
      "./data/data/0006400001/2014-03-04_AP-audit_pixtral.html\n",
      "./data/data/0006400001/2015-06-19_AP-garanties-financie╠Çres_pixtral.html\n",
      "./data/data/0006400001/2015-12-28_AP-auto_refonte_pixtral.html\n",
      "./data/data/0006400001/2018-05-23_AP-MD_pixtral.html\n",
      "./data/data/0006400001/2018-05-23_AP-MU_pixtral.html\n",
      "./data/data/0006400001/2018-05-23_APC-auto_pixtral.html\n",
      "./data/data/0006400001/2018-07-20_APC-auto_pixtral.html\n",
      "./data/data/0006400001/2020-07-10_APC-auto_2_pixtral.html\n",
      "./data/data/0006400001/2020-07-10_APC-auto_pixtral.html\n",
      "./data/data/0006400001/2021-01-19_APC-auto_pixtral.html\n",
      "./data/data/0006400001/2023-07-31_AP-MD_pixtral.html\n",
      "./data/data/0006400001/2023-12-06_AP-MU_pixtral.html\n",
      "./data/data/0006400001/2024-02-09_APC-auto_pixtral.html\n",
      "./data/data/0022200009/1999-12-21_AP-auto_pixtral.html\n",
      "./data/data/0022200009/2005-05-17_APC-auto_pixtral.html\n",
      "./data/data/0022200009/2015-01-15_APC-garanties_financie╠Çres_pixtral.html\n",
      "./data/data/0022200009/2015-11-12_AP-audit_pixtral.html\n",
      "./data/data/0022200009/2015-11-23_AP-auto_refonte_pixtral.html\n",
      "./data/data/0022200009/2020-03-27_APC-auto_pixtral.html\n",
      "./data/data/0022200009/2021-05-17_APC-auto_pixtral.html\n",
      "./data/data/0022200009/2022-03-09_AP-MD_pixtral.html\n",
      "./data/data/0022200009/2023-12-11_APC-auto_temporaire_pixtral.html\n",
      "./data/data/0022200009/2024-08-27_AP-MD_pixtral.html\n"
     ]
    }
   ],
   "source": [
    "pipeline()"
   ]
  },
  {
   "cell_type": "markdown",
   "metadata": {},
   "source": [
    "## Comment établir les regexs :"
   ]
  },
  {
   "cell_type": "markdown",
   "metadata": {},
   "source": [
    "On écrit une fonction `get_example` qui permet de récupérer toutes les balises contenant un mot de texte de loi à référencer, ce qui nous permet de récupérer toutes les occurences d'un type de loi dans les documents et donc d'avoir une idée de quelle regexp utiliser. On sauvegarde ces textes dans un fichier text séparé afin de pouvoir l'étudier plus facilement."
   ]
  },
  {
   "cell_type": "code",
   "execution_count": 196,
   "metadata": {},
   "outputs": [],
   "source": [
    "#### ne pas supprimer : permet de savoir quel format peut avoir chaque texte de loi\n",
    "def get_examples(Loi, name):\n",
    "    root = \"./data/\"\n",
    "    data_dirs = root + 'data/'\n",
    "    sub_data_dirs = next(os.walk(data_dirs))[1]\n",
    "    res_dirs = root + 'results/'\n",
    "    examples = []\n",
    "    for sub_data_dir in sub_data_dirs:\n",
    "        file_names = next(os.walk(data_dirs + sub_data_dir + '/'))[2]\n",
    "        for file_name in file_names:\n",
    "            data_path = data_dirs + sub_data_dir + '/' + file_name\n",
    "            res_data_path = res_dirs + sub_data_dir + '/' + file_name[:-5] + '_results.html'\n",
    "            with open(data_path, 'r') as file_content:\n",
    "                soup = bs4.BeautifulSoup(file_content, 'html')   \n",
    "                whole_text = soup.find_all(['div', 'td', 'h2'])\n",
    "                for tag in whole_text:\n",
    "                    if(find_regex(Loi, tag.text)[0]):\n",
    "                        examples.append(tag.text)\n",
    "\n",
    "    with open(f\"example_{name}.txt\", 'w') as f:\n",
    "        for example in examples:\n",
    "            f.write(f\"{example}\\n\")"
   ]
  },
  {
   "cell_type": "code",
   "execution_count": 197,
   "metadata": {},
   "outputs": [],
   "source": [
    "get_examples([r\"\\sloi\\s\"], \"loi\")"
   ]
  }
 ],
 "metadata": {
  "kernelspec": {
   "display_name": "base",
   "language": "python",
   "name": "python3"
  },
  "language_info": {
   "codemirror_mode": {
    "name": "ipython",
    "version": 3
   },
   "file_extension": ".py",
   "mimetype": "text/x-python",
   "name": "python",
   "nbconvert_exporter": "python",
   "pygments_lexer": "ipython3",
   "version": "3.9.13"
  }
 },
 "nbformat": 4,
 "nbformat_minor": 2
}

{
 "cells": [
  {
   "cell_type": "markdown",
   "metadata": {},
   "source": [
    "# Projet 4 Bernadoy Corentin"
   ]
  },
  {
   "cell_type": "markdown",
   "metadata": {},
   "source": [
    "Le but de ce projet est de créer une balise html `<a>` autour des textes de référencés dans les différents arrêtés municipaux mis à notre disposition."
   ]
  },
  {
   "cell_type": "markdown",
   "metadata": {},
   "source": [
    "## Imports"
   ]
  },
  {
   "cell_type": "code",
   "execution_count": 37,
   "metadata": {},
   "outputs": [],
   "source": [
    "import os\n",
    "import bs4\n",
    "import regex as re"
   ]
  },
  {
   "cell_type": "markdown",
   "metadata": {},
   "source": [
    "## Stratégie et étude du jeu de donnée"
   ]
  },
  {
   "cell_type": "markdown",
   "metadata": {},
   "source": [
    "Pour une première approche, nous allons tenter d'utiliser un maximum les expressions régulières. En effet, il s'agit d'une approche simple et si elle réussit, permet de consitituer un premier jeu de données labélisées pour une étude par machine learning. "
   ]
  },
  {
   "cell_type": "markdown",
   "metadata": {},
   "source": [
    "Tout d'abord on établit la structure que l'on veut suivre : on va extraire les textes présents dans les balises via Beautifulsoup, recherche la présence de textes de lois dans ces textes extraits, les encadrer par une balise `<a>` puis on va sauvegarder le fichier html modifié dans un fichier séparé."
   ]
  },
  {
   "cell_type": "markdown",
   "metadata": {},
   "source": [
    "### Création des dossier de dépôt des résultats"
   ]
  },
  {
   "cell_type": "markdown",
   "metadata": {},
   "source": [
    "On commence par créer les dossier de résultats dans l'arborescence actuelle"
   ]
  },
  {
   "cell_type": "code",
   "execution_count": 38,
   "metadata": {},
   "outputs": [],
   "source": [
    "#Création des fichiers de résultat\n",
    "root = \"./data/\"\n",
    "os.makedirs(root + \"results/\", exist_ok= True) # créer un dir à côté du dir data\n",
    "sub_data_dirs = next(os.walk(root + 'data/'))[1] # fait la liste des dossiers à créer\n",
    "for sub_data_dir in sub_data_dirs:\n",
    "    os.makedirs(root + \"results/\" + sub_data_dir, exist_ok= True) #réplique l'arborescence du dossier data"
   ]
  },
  {
   "cell_type": "markdown",
   "metadata": {},
   "source": [
    "### Fonctions utiles"
   ]
  },
  {
   "cell_type": "markdown",
   "metadata": {},
   "source": [
    "Il nous faut trois fonctions pour établir la structure : une première fonction `find_regex` pour évaluer les matchs avec les regex et déterminer leur position dans le texte, une fonction `rewritting` pour réécrire le texte avec les balises et enfin une fonction  `pipeline` qui itère les deux premières sur chaque texte de chaque fichier et qui sauvegarde les résultats"
   ]
  },
  {
   "cell_type": "markdown",
   "metadata": {},
   "source": [
    "On écrit d'abord la list des regex que l'on va utiliser pour détecter les références à des textes de lois (plus de détails sur comment établir les regexs dans la partie suivante)"
   ]
  },
  {
   "cell_type": "code",
   "execution_count": 39,
   "metadata": {},
   "outputs": [],
   "source": [
    "regex_list = [\n",
    "    # regex pour les directives\n",
    "    r\"directive[\\sA-Za-zÀ-ÿ]+\\d{4}/\\d+/[A-Z]{2}\",\n",
    "    # regex pour les décrets\n",
    "    r\"[Dd]écret(?:\\s+n°|\\s+no)?\\s*[./\\d\\-]+(?:\\s+du\\s+\\d{1,2}(?:er)?\\s+[a-zéû]+\\s+\\d{4})?|[Dd]écret\\s+du\\s+\\d{1,2}(?:er)?\\s+[a-zéû]+\\s+\\d{4}\",\n",
    "    # regex pour les articles du code de l'environnemnent\n",
    "    r\"article(.+?)[Cc]ode\\s+de\\s+l[’']environnement|[\\sA-Za-zÀ-ÿ]{2}\\s+[Cc]ode\\s+de\\s+l[’']environnement\",\n",
    "    # regex pour les lois\n",
    "    r\"\\s[Ll]oi(?:\\s+n°|\\s+no)?\\s*[\\d\\-\\s]+(?:du\\s+\\d{1,2}(?:er)?\\s+[a-zéû]+\\s+\\d{4})?\",\n",
    "    # regex pour les circulaires\n",
    "    r\"circulaire[\\sA-Za-zÀ-ÿ]+(?:\\s+n°|\\s+no)(?:[A-Z/\\d]+)\\s+(?:du\\s+\\d{1,2}(?:er)?\\s+[a-zéû]+\\s+\\d{4})?|circulaire[\\sA-Za-zÀ-ÿ]+(?:du\\s+\\d{1,2}(?:er)?\\s+[a-zéû]+\\s+\\d{4})\",\n",
    "    # regex les arrêtés pour \n",
    "    r\"[Aa]rrêté[\\sA-Aa-zÀ-ÿ]+(?:\\s+n°|\\s+no)\\s*[\\d\\-]+|[Aa]rrêté[\\sA-Aa-zÀ-ÿ]+du\\s+\\d{1,2}(?:er)?\\s+[a-zéû]+\\s+\\d{4}\"\n",
    "]"
   ]
  },
  {
   "cell_type": "code",
   "execution_count": 40,
   "metadata": {},
   "outputs": [],
   "source": [
    "cde = regex_list[-1]"
   ]
  },
  {
   "cell_type": "markdown",
   "metadata": {},
   "source": [
    "On écrit les fonctions"
   ]
  },
  {
   "cell_type": "code",
   "execution_count": 41,
   "metadata": {},
   "outputs": [],
   "source": [
    "def find_regex(regex_list, text):\n",
    "    occurences = [] #On crée une liste pour récupérer les positions où insérer les balises\n",
    "    for regex in regex_list:\n",
    "        for occurence in re.finditer(regex, text):\n",
    "            occurences.append((occurence.start(0),occurence.end(0)))# On récupère les positions où insérer les balises\n",
    "    return((len(occurences) > 0), occurences)"
   ]
  },
  {
   "cell_type": "code",
   "execution_count": 42,
   "metadata": {},
   "outputs": [
    {
     "name": "stdout",
     "output_type": "stream",
     "text": [
      "(10, 35)\n",
      "arrêté du 25 janvier 1991\n",
      "\n",
      "    VU l'arrêté du 25 janvier 1991 relatif aux installations d'incinérations de résidus ;\n",
      "   \n",
      "(41, 69)\n",
      "arrêté préfectoral n° 99-930\n",
      "\n",
      "    VU l'enquête publique prescrite par arrêté préfectoral n° 99-930 du 5 mai 1999 qui s'est déroulée du 7 juin au 7 juillet 1999 inclus ;\n",
      "   \n",
      "(10, 39)\n",
      "arrêté préfectoral n° 99-2694\n",
      "\n",
      "    VU l'arrêté préfectoral n° 99-2694 du 10 novembre 1999 portant prorogation du délai d'instruction du dossier ;\n",
      "   \n",
      "(138, 160)\n",
      "arrêté du 23 août 1989\n",
      "\n",
      "     4.4.1- Définitions:\n",
      "     Sont considérés comme déchets d'activités de soins et, à ce titre, admis à l'incinération conformément à l'arrêté du 23 août 1989, les déchets définis à l'article R 44-1 du code de la santé publique (décret n° 97-1049 du 6 novembre 1997), l'ensemble de ces déchets étant admis à raison de 10 % en mélange avec les ordures ménagères au niveau des fours d'incinération.\n",
      "    \n",
      "(177, 201)\n",
      "arrêté du 4 janvier 1985\n",
      "\n",
      "     Tout contenu de déchets d'activités de soins arrivant sur le centre devra être accompagné d'un bordereau de suivi qui sera établi et utilisé dans les formes prévues par l'arrêté du 4 janvier 1985 relatif au contrôle des circuits d'élimination des déchets générateurs de nuisances.\n",
      "    \n",
      "(149, 185)\n",
      "arrêté ministériel du 4 janvier 1985\n",
      "\n",
      "     Au début de chaque trimestre, un récapitulatif d'élimination des déchets d'activités de soins, conforme au modèle figurant à l'annexe 4.3 de l'arrêté ministériel du 4 janvier 1985 susvisé sera transmis à l'inspecteur des installations Classées.\n",
      "    \n",
      "(99, 124)\n",
      "arrêté du 25 janvier 1991\n",
      "\n",
      "     L'installation d'incinération sera implantée et exploitée conformément aux dispositions de l'arrêté du 25 janvier 1991 relatif aux installations d'incinération de résidus urbains, et à l'arrêté du 25 août 1989 relatif à l'incinération des déchets contenant des résidus urbains.\n",
      "    \n",
      "(193, 215)\n",
      "arrêté du 25 août 1989\n",
      "\n",
      "     L'installation d'incinération sera implantée et exploitée conformément aux dispositions de l'arrêté du 25 janvier 1991 relatif aux installations d'incinération de résidus urbains, et à l'arrêté du 25 août 1989 relatif à l'incinération des déchets contenant des résidus urbains.\n",
      "    \n",
      "(273, 310)\n",
      "arrêté ministériel du 25 janvier 1991\n",
      "\n",
      "     5.3.1 - L'application des règles précédentes conduit aux modalités de rejet suivantes :\n",
      "     \n",
      "\n",
      "       Les gaz seront évacués par l'intermédiaire d'une cheminée équipée d'un conduit par ligne d'incinération dont la hauteur, calculée conformément aux dispositions de l'arrêté ministériel du 25 janvier 1991 relatif aux installations d'incinération des déchets urbains, respecte à cette maximale de la servitude aéronautique fixée à 55 m NGSM.\n",
      "      \n",
      "\n",
      "       Les gaz seront évacués à de 34 380 Nm3/h sur gaz sec à 11% de 02, au fonctionnement nominal de 7 700 PCS 2000 kW.\n",
      "      \n",
      "\n",
      "       La vitesse minimale d'éjection des gaz ne sera pas inférieure à 12 m/s.\n",
      "      \n",
      "\n",
      "       Le débit volumétrique des gaz et les valeurs limites d'émission fixées ci-après sont rapportées à des conditions normalisées de température (273° Kelvin) et de pression (101,3 kilopascal), après déduction de la vapeur d'eau (gaz secs) et à une teneur en oxygène dans les gaz résiduaires de 11 % en volume.\n",
      "      \n",
      "\n",
      "\n",
      "(173, 198)\n",
      "arrêté du 10 octobre 1996\n",
      "\n",
      "        La concentration en dioxines et furannes est définie comme la somme des concentrations en dioxines et furannes déterminées selon les indications de l'annexe I de l'arrêté du 10 octobre 1996 relatif aux installations spécialisées d'incinération et aux installations de co-incinération de certains déchets industriels spéciaux.\n",
      "       \n",
      "(142, 203)\n",
      "arrêté préfectoral pris au titre de la loi du 19 juillet 1976\n",
      "\n",
      "     Les résidus de l'épuration des fumées ne pourront être admis que dans les seules installations explicitement autorisées à cet effet par arrêté préfectoral pris au titre de la loi du 19 juillet 1976. Après stabilisation, ils seront mis en centre de stockage pour déchets ultimes (ex : décharge de Classe I) ou dans un centre spécifique pour ce type de résidus, selon les conditions définies par l'arrêté ministériel du 18 décembre 1992 modifié par arrêté ministériel du 19 février 1994.\n",
      "    \n",
      "(402, 440)\n",
      "arrêté ministériel du 18 décembre 1992\n",
      "\n",
      "     Les résidus de l'épuration des fumées ne pourront être admis que dans les seules installations explicitement autorisées à cet effet par arrêté préfectoral pris au titre de la loi du 19 juillet 1976. Après stabilisation, ils seront mis en centre de stockage pour déchets ultimes (ex : décharge de Classe I) ou dans un centre spécifique pour ce type de résidus, selon les conditions définies par l'arrêté ministériel du 18 décembre 1992 modifié par arrêté ministériel du 19 février 1994.\n",
      "    \n",
      "(453, 490)\n",
      "arrêté ministériel du 19 février 1994\n",
      "\n",
      "     Les résidus de l'épuration des fumées ne pourront être admis que dans les seules installations explicitement autorisées à cet effet par arrêté préfectoral pris au titre de la loi du 19 juillet 1976. Après stabilisation, ils seront mis en centre de stockage pour déchets ultimes (ex : décharge de Classe I) ou dans un centre spécifique pour ce type de résidus, selon les conditions définies par l'arrêté ministériel du 18 décembre 1992 modifié par arrêté ministériel du 19 février 1994.\n",
      "    \n",
      "(137, 161)\n",
      "arrêté du 4 janvier 1995\n",
      "\n",
      "     Les documents justificatifs de l'exécution de l'élimination de ces déchets dont, le cas échéant, le bordereau de suivi prévu par l'arrêté du 4 janvier 1995 relatif au contrôle des circuits d'élimination de déchets générés par les nuisances, seront annexés au dit registre, conservés pendant trois ans et tiennent à la disposition de l'inspecteur des installations classées.\n",
      "    \n",
      "(29, 66)\n",
      "arrêté ministériel du 23 janvier 1997\n",
      "\n",
      "     Les prescriptions de l'arrêté ministériel du 23 janvier 1997 relatif à la limitation des bruits émis dans l'environnement par les installations classées pour la protection de l'environnement, et les règles techniques annexées à la circulaire du 23 juillet 1980 relatives aux vibrations mécaniques émis dans l'environnement par les installations classées lui sont applicables.\n",
      "    \n",
      "(122, 147)\n",
      "arrêté du 23 janvier 1997\n",
      "\n",
      "     Dans le cas où le bruit particulier de l'établissement est à tonalité marquée au sens du point 1.9 de l'annexe de l'arrêté du 23 janvier 1997 relatif à la limitation des bruits émis dans l'environnement par les installations classées pour la protection de l'environnement, de manière éligible ou cyclique, sa durée d'apparition ne peut dépasser 60 s pour cent de la durée de fonctionnement de l'établissement dans chacune des périodes définies ou nuit et jour.\n",
      "    \n",
      "(74, 99)\n",
      "arrêté du 23 janvier 1997\n",
      "\n",
      "     Les mesures sont effectuées selon la méthode définie en annexe de l'arrêté du 23 janvier 1997.\n",
      "    \n",
      "(59, 84)\n",
      "arrêté du 28 janvier 1993\n",
      "\n",
      "     L'ensemble de l'établissement doit être conforme à l'arrêté du 28 janvier 1993 relatif à la protection de certaines installations classées contre les effets de la foudre, et à ses circulaires d'application.\n",
      "    \n",
      "(110, 135)\n",
      "arrêté du 28 janvier 1993\n",
      "\n",
      "     En particulier, si des dispositifs de protection contre la foudre ont été installés en application de l'arrêté du 28 janvier 1993 susvisé, leur état fera l'objet, tous les cinq ans, d'une vérification suivant l'article 5.1 de la norme française C 17-100 adaptée, le cas échéant, au type de système de protection mis en place. Dans ce cas, la procédure sera décrite dans un document tenu à la disposition de l'inspecteur des installations classées.\n",
      "    \n",
      "(275, 309)\n",
      "arrêté ministériel du 31 mars 1980\n",
      "\n",
      "     Dans les zones à risques d'explosion, les installations électriques sont conformes à la réglementation des installations électriques des établissements relevant au titre de la législation des installations classées et susceptibles de présenter des risques d'explosion (arrêté ministériel du 31 mars 1980 - J.O. du 30 avril 1980).\n",
      "    \n",
      "20\n"
     ]
    }
   ],
   "source": [
    "### only for tests (if somebody is curious enough to look until here in the commits :))\n",
    "\n",
    "with open('data/data/0022200009/1999-12-21_AP-auto_pixtral.html', 'r') as f:\n",
    "    soup = bs4.BeautifulSoup(f, 'html')   \n",
    "    whole_text = soup.find_all(['div', 'td', 'h2'])\n",
    "    i = 0\n",
    "    for tag in whole_text:\n",
    "        for occurence in re.finditer(cde, tag.text):\n",
    "            i += 1\n",
    "            print((occurence.start(0),occurence.end(0)))\n",
    "            print(tag.text[occurence.start(0):occurence.end(0)])\n",
    "            print(tag.text)\n",
    "    \n",
    "print(i)"
   ]
  },
  {
   "cell_type": "code",
   "execution_count": 43,
   "metadata": {},
   "outputs": [],
   "source": [
    "def rewriting(soup, tag, occurences): # fonction de réécriture\n",
    "    sorted_occurences = sorted(occurences) # on trie la liste pour insérer les balises une par une\n",
    "    spliced_text = [] # on créé une liste qui permettra de découper le texte\n",
    "    start = 0 # on indique le premier indice à sélectionner\n",
    "    for occ in sorted_occurences:\n",
    "        spliced_text.append(tag.text[start:occ[0]]) #on découpe le texte jusqu'à rencontrer une balise à insérer\n",
    "        spliced_text.append(tag.text[occ[0]:occ[1]]) #on découpe le texte à baliser\n",
    "        start = occ[1] #on repart de après la balise\n",
    "    spliced_text.append(tag.text[start:]) # on ajoute le segment de la dernière balise à la fin\n",
    "    tag.string = '' #on efface le texte présent pour le baliser avec le texte découper\n",
    "    for i, substring in enumerate(spliced_text):\n",
    "        if (i%2 == 0): # si le segment a un indice pair, il est hors de balises : on l'ajoute sans le modifier\n",
    "            tag.append(substring)\n",
    "        if (i%2 != 0):  #sinon : on l'ajoute en le balisant : il faut créer un nouveau tag 'a'\n",
    "            a_tag = soup.new_tag('a')\n",
    "            a_tag.string = substring\n",
    "            tag.append(a_tag)"
   ]
  },
  {
   "cell_type": "code",
   "execution_count": 44,
   "metadata": {},
   "outputs": [],
   "source": [
    "root = \"./data/\"\n",
    "def pipeline(root = root): # on créer la fonction pour itérer sur tous les fichiers\n",
    "    data_dirs = root + 'data/'  #dossier des données\n",
    "    sub_data_dirs = next(os.walk(data_dirs))[1] #sous-dossiers des données\n",
    "    res_dirs = root + 'results/' # dossier des résultats\n",
    "    for sub_data_dir in sub_data_dirs: # pour chaque sous dossier\n",
    "        file_names = next(os.walk(data_dirs + sub_data_dir + '/'))[2] #on récupère les noms des fichiers\n",
    "        for file_name in file_names: # pour chaque fichier\n",
    "            data_path = data_dirs + sub_data_dir + '/' + file_name #on récupère le path\n",
    "            res_data_path = res_dirs + sub_data_dir + '/' + file_name[:-5] + '_results.html' #on récupère le path où copier les résultat\n",
    "            with open(data_path, 'r') as f: # pour chaque fichier de donnée\n",
    "                soup = bs4.BeautifulSoup(f, 'html')   # on transforme en beautiful soup\n",
    "                whole_text = soup.find_all(['div', 'td', 'h2']) # on extrait le texte des balises où il peut être\n",
    "                for tag in whole_text: #pour chaque tag de texte\n",
    "                    if (not(tag.find('h1'))): # on exclue le div qui contient le titre, car ce dernier contient toujours le nom du texte présenté dans le document, ce qui n'est pas une référence externe\n",
    "                        found, occurences = find_regex(regex_list, tag.text) # on cherche des regex\n",
    "                        if found: # si on en trouve\n",
    "                            rewriting(soup, tag, occurences) #on réécrit le texte\n",
    "\n",
    "            with open(res_data_path, 'w', encoding= \"utf-8\") as f:#on ouvre et on copie les résultats\n",
    "                    f.write(str(soup))"
   ]
  },
  {
   "cell_type": "code",
   "execution_count": 45,
   "metadata": {},
   "outputs": [
    {
     "name": "stdout",
     "output_type": "stream",
     "text": [
      "./data/data/0003013459/2020-04-20_AP-auto_initial_pixtral.html\n",
      "./data/data/0003013459/2021-09-24_AP-auto_refonte_pixtral.html\n",
      "./data/data/0003013459/2023-02-23_APC-auto_pixtral.html\n",
      "./data/data/0005205103/2002-12-11_AP-auto_initial_pixtral.html\n",
      "./data/data/0005205103/2004-04-16_AP-auto_refonte_pixtral.html\n",
      "./data/data/0005205103/2004-05-04_APC-auto_pixtral.html\n",
      "./data/data/0005205103/2004-05-04_APC-TAR_pixtral.html\n",
      "./data/data/0005205103/2006-01-31_AP-audit_pixtral.html\n",
      "./data/data/0005205103/2007-10-25_AP-auto_refonte_pixtral.html\n",
      "./data/data/0005205103/2008-08-14_AP-radioactif_pixtral.html\n",
      "./data/data/0005205103/2008-11-26_AP-audit_pixtral.html\n",
      "./data/data/0005205103/2009-09-11_AP-auto_refonte_pixtral.html\n",
      "./data/data/0005205103/2010-04-02_AP-MU_pixtral.html\n",
      "./data/data/0005205103/2011-07-18_AP-RSDE_pixtral.html\n",
      "./data/data/0005205103/2012-01-11_AP-auto_refonte_pixtral.html\n",
      "./data/data/0005205103/2012-01-11_AP-auto_refonte_pixtral_old.html\n",
      "./data/data/0005205103/2013-10-23_AP-auto_refonte_pixtral.html\n",
      "./data/data/0005205103/2014-07-04_AP-garanties-financie╠Çres_pixtral.html\n",
      "./data/data/0005205103/2016-03-02_APC-auto_pixtral.html\n",
      "./data/data/0005205103/2017-12-21_AP-MU_pixtral.html\n",
      "./data/data/0005205103/2018-05-02_APC-auto_pixtral.html\n",
      "./data/data/0005205103/2018-12-04_APC-auto_pixtral.html\n",
      "./data/data/0005205103/2019-02-05_APC-auto_pixtral.html\n",
      "./data/data/0005205103/2019-08-08_AP-rejets_pixtral.html\n",
      "./data/data/0005205103/2020-04-02_APC-auto_temporaire_pixtral.html\n",
      "./data/data/0005205103/2020-10-16_AP-rejets_refonte_pixtral.html\n",
      "./data/data/0005205103/2021-06-30_APC-auto_pixtral.html\n",
      "./data/data/0005205103/2021-08-05_APC-auto_pixtral.html\n",
      "./data/data/0005205103/2023-10-16_AP-auto_modificatif_pixtral.html\n",
      "./data/data/0005205103/2024-06-21_AP-MD_pixtral.html\n",
      "./data/data/0005205103/2024-09-05_AP-PFAS_pixtral.html\n",
      "./data/data/0005302209/2004-12-10_AP-auto_refonte_pixtral.html\n",
      "./data/data/0005302209/2010-08-11_APC-auto_pixtral.html\n",
      "./data/data/0005302209/2011-02-01_APC-auto_pixtral.html\n",
      "./data/data/0005302209/2012-02-02_APC-auto_pixtral.html\n",
      "./data/data/0005302209/2012-12-26_APC-auto_pixtral.html\n",
      "./data/data/0005302209/2015-09-10_APC-auto_pixtral.html\n",
      "./data/data/0005302209/2016-05-10_APC-RSDE_pixtral.html\n",
      "./data/data/0005302209/2021-03-10_AP-auto_refonte_pixtral.html\n",
      "./data/data/0005302209/2022-12-06_APC-auto_pixtral.html\n",
      "./data/data/0005302750/2010-07-16_AP-auto_refonte_pixtral.html\n",
      "./data/data/0005302750/2011-01-13_APC-auto_pixtral.html\n",
      "./data/data/0005302750/2013-11-25_APC-auto_pixtral.html\n",
      "./data/data/0005302750/2018-01-19_APC-auto_pixtral.html\n",
      "./data/data/0005302750/2018-10-23_AP-MD_pixtral.html\n",
      "./data/data/0005302750/2019-05-23_AP-audit_pixtral.html\n",
      "./data/data/0005302750/2020-04-24_APC-e╠üpandage_pixtral.html\n",
      "./data/data/0005302750/2020-09-02_APC-e╠üpandage_pixtral.html\n",
      "./data/data/0005302750/2021-05-12_APC-e╠üpandage_pixtral.html\n",
      "./data/data/0005302750/2021-06-11_AP-audit_pixtral.html\n",
      "./data/data/0005302750/2021-06-18_APC-auto_pixtral.html\n",
      "./data/data/0005302750/2021-08-20_APC-e╠üpandage_pixtral.html\n",
      "./data/data/0005302750/2021-10-04_APC-e╠üpandage_pixtral.html\n",
      "./data/data/0005302750/2022-04-08_APC-e╠üpandage_pixtral.html\n",
      "./data/data/0005302750/2022-05-12_AP-pompage_pixtral.html\n",
      "./data/data/0005302750/2022-08-08_APC-e╠üpandage_pixtral.html\n",
      "./data/data/0005302750/2022-11-07_APC-auto_pixtral.html\n",
      "./data/data/0005302750/2023-12-22_AP-MD_pixtral.html\n",
      "./data/data/0005302849/2005-11-07_AP-auto_refonte_pixtral.html\n",
      "./data/data/0005302849/2010-01-06_APC-RSDE_pixtral.html\n",
      "./data/data/0005302849/2020-03-05_AP-MD_pixtral.html\n",
      "./data/data/0005302849/2021-06-24_AP-audit_pixtral.html\n",
      "./data/data/0005303622/1994-08-03_AP-auto_refonte_pixtral.html\n",
      "./data/data/0005303622/1999-05-17_APC-auto_pixtral.html\n",
      "./data/data/0005303622/2010-05-04_APC-auto_pixtral.html\n",
      "./data/data/0005303622/2010-12-30_APC-RSDE_pixtral.html\n",
      "./data/data/0005303622/2012-04-13_APC-audit_pixtral.html\n",
      "./data/data/0005303622/2020-05-29_AP-MD_pixtral.html\n",
      "./data/data/0005303622/2021-10-01_APC-auto_pixtral.html\n",
      "./data/data/0005303622/2023-02-02_AP-MD_pixtral.html\n",
      "./data/data/0005303622/2024-09-06_APC-auto_pixtral.html\n",
      "./data/data/0005303674/1993-03-23_AP-auto_pixtral.html\n",
      "./data/data/0005303674/1999-03-30_APC-ammoniac_pixtral.html\n",
      "./data/data/0005303674/2000-05-03_APC-forage_pixtral.html\n",
      "./data/data/0005303674/2006-12-22_APC-e╠üpandage_pixtral.html\n",
      "./data/data/0005303674/2009-12-18_APC-RSDE_pixtral.html\n",
      "./data/data/0005303674/2010-03-11_APC-auto_pixtral.html\n",
      "./data/data/0005303674/2012-12-27_APC-auto_pixtral.html\n",
      "./data/data/0005303674/2012-12-27_APC-RSDE_pixtral.html\n",
      "./data/data/0005303674/2015-04-15_APC-auto_pixtral.html\n",
      "./data/data/0005303674/2020-01-23_APC-auto_pixtral.html\n",
      "./data/data/0005303674/2020-04-29_AP-MD_pixtral.html\n",
      "./data/data/0005303674/2021-02-04_AP-MD_pixtral.html\n",
      "./data/data/0005303674/2021-04-01_AP-MD_pixtral.html\n",
      "./data/data/0005303674/2021-04-30_AP-MD-amende_pixtral.html\n",
      "./data/data/0005303674/2021-04-30_AP-MD_pixtral.html\n",
      "./data/data/0005303674/2023-05-24_APC-auto_pixtral.html\n",
      "./data/data/0005303674/2023-07-20_AP-MD_pixtral.html\n",
      "./data/data/0005804966/2011-02-24_AP-auto_pixtral.html\n",
      "./data/data/0005804966/2017-01-26_APC-garanties-financie╠Çres_pixtral.html\n",
      "./data/data/0005804966/2018-07-13_AP-auto_refonte_pixtral.html\n",
      "./data/data/0005900110/2002-03-04_AP-auto_refonte_pixtral.html\n",
      "./data/data/0006400001/1978-05-24_AP-auto_pixtral.html\n",
      "./data/data/0006400001/1994-05-24_APC-auto_pixtral.html\n",
      "./data/data/0006400001/2001-08-07_APC-auto_pixtral.html\n",
      "./data/data/0006400001/2001-10-05_APC-auto_temporaire_pixtral.html\n",
      "./data/data/0006400001/2002-07-30_AP-MD_pixtral.html\n",
      "./data/data/0006400001/2002-08-10_APC-auto_pixtral.html\n",
      "./data/data/0006400001/2003-03-12_AP-audit_pixtral.html\n",
      "./data/data/0006400001/2003-07-31_APC-auto_pixtral.html\n",
      "./data/data/0006400001/2004-06-08_AP-MU_pixtral.html\n",
      "./data/data/0006400001/2005-11-07_AP-audit_pixtral.html\n",
      "./data/data/0006400001/2006-07-26_AP-audit_pixtral.html\n",
      "./data/data/0006400001/2006-09-25_APC-auto_pixtral.html\n",
      "./data/data/0006400001/2007-11-27_AP-MD_pixtral.html\n",
      "./data/data/0006400001/2008-05-30_AP-audit_pixtral.html\n",
      "./data/data/0006400001/2008-07-10_AP-audit_pixtral.html\n",
      "./data/data/0006400001/2010-03-19_AP-RSDE_pixtral.html\n",
      "./data/data/0006400001/2011-09-30_APC-auto_pixtral.html\n",
      "./data/data/0006400001/2012-08-03_AP-audit_pixtral.html\n",
      "./data/data/0006400001/2014-03-04_AP-audit_pixtral.html\n",
      "./data/data/0006400001/2015-06-19_AP-garanties-financie╠Çres_pixtral.html\n",
      "./data/data/0006400001/2015-12-28_AP-auto_refonte_pixtral.html\n",
      "./data/data/0006400001/2018-05-23_AP-MD_pixtral.html\n",
      "./data/data/0006400001/2018-05-23_AP-MU_pixtral.html\n",
      "./data/data/0006400001/2018-05-23_APC-auto_pixtral.html\n",
      "./data/data/0006400001/2018-07-20_APC-auto_pixtral.html\n",
      "./data/data/0006400001/2020-07-10_APC-auto_2_pixtral.html\n",
      "./data/data/0006400001/2020-07-10_APC-auto_pixtral.html\n",
      "./data/data/0006400001/2021-01-19_APC-auto_pixtral.html\n",
      "./data/data/0006400001/2023-07-31_AP-MD_pixtral.html\n",
      "./data/data/0006400001/2023-12-06_AP-MU_pixtral.html\n",
      "./data/data/0006400001/2024-02-09_APC-auto_pixtral.html\n",
      "./data/data/0022200009/1999-12-21_AP-auto_pixtral.html\n",
      "./data/data/0022200009/2005-05-17_APC-auto_pixtral.html\n",
      "./data/data/0022200009/2015-01-15_APC-garanties_financie╠Çres_pixtral.html\n",
      "./data/data/0022200009/2015-11-12_AP-audit_pixtral.html\n",
      "./data/data/0022200009/2015-11-23_AP-auto_refonte_pixtral.html\n",
      "./data/data/0022200009/2020-03-27_APC-auto_pixtral.html\n",
      "./data/data/0022200009/2021-05-17_APC-auto_pixtral.html\n",
      "./data/data/0022200009/2022-03-09_AP-MD_pixtral.html\n",
      "./data/data/0022200009/2023-12-11_APC-auto_temporaire_pixtral.html\n",
      "./data/data/0022200009/2024-08-27_AP-MD_pixtral.html\n"
     ]
    }
   ],
   "source": [
    "pipeline() # cellule d'exécution de pipeline"
   ]
  },
  {
   "cell_type": "markdown",
   "metadata": {},
   "source": [
    "## Comment établir les regexs :"
   ]
  },
  {
   "cell_type": "markdown",
   "metadata": {},
   "source": [
    "On écrit une fonction `get_example` qui permet de récupérer toutes les balises contenant un mot de texte de loi à référencer, ce qui nous permet de récupérer toutes les occurences d'un type de loi dans les documents et donc d'avoir une idée de quelle regexp utiliser. On sauvegarde ces textes dans un fichier text séparé afin de pouvoir l'étudier plus facilement."
   ]
  },
  {
   "cell_type": "code",
   "execution_count": 46,
   "metadata": {},
   "outputs": [],
   "source": [
    "#### ne pas supprimer : permet de savoir quel format peut avoir chaque texte de loi\n",
    "def get_examples(Loi, name):\n",
    "    root = \"./data/\"\n",
    "    data_dirs = root + 'data/'\n",
    "    sub_data_dirs = next(os.walk(data_dirs))[1]\n",
    "    res_dirs = root + 'results/'\n",
    "    examples = [] # on récupère le texte des exemples dans une liste\n",
    "    for sub_data_dir in sub_data_dirs:\n",
    "        file_names = next(os.walk(data_dirs + sub_data_dir + '/'))[2]\n",
    "        for file_name in file_names:\n",
    "            data_path = data_dirs + sub_data_dir + '/' + file_name\n",
    "            with open(data_path, 'r') as file_content:\n",
    "                soup = bs4.BeautifulSoup(file_content, 'html')   \n",
    "                whole_text = soup.find_all(['div', 'td', 'h2'])\n",
    "                for tag in whole_text:\n",
    "                    if(find_regex(Loi, tag.text)[0]):\n",
    "                        examples.append(tag.text)\n",
    "\n",
    "    with open(f\"example_{name}.txt\", 'w') as f: # on envoie les résultats dans un fichier texte\n",
    "        for example in examples:\n",
    "            f.write(f\"{example}\\n\")"
   ]
  },
  {
   "cell_type": "code",
   "execution_count": 47,
   "metadata": {},
   "outputs": [],
   "source": [
    "get_examples([r\"[Aa]rrêté\"], \"Arrete\") # exemple pour les arrêtés"
   ]
  },
  {
   "cell_type": "markdown",
   "metadata": {},
   "source": [
    "À l'aide des documents d'exemple, on peut déterminer un pattern chaque texte de loi, qui permet de l'identifier au mieux:\n",
    "- Pour les directives, la structure est généralement la suivante : le mot 'directive' suivi optionnellement du mot 'européenne' et d'un code d'identification sous le format '####/##/AA' avec # des chiffres et A des lettres. À noter qu'il peut y avoir plus que deux chiffres au centre du code. On décide donc comme regex une expression qui encapsule du mot directive à la fin du code, ce qui se traduit ici par : `r\"directive[\\sA-Za-zÀ-ÿ]+\\d{4}/\\d+/[A-Z]{2}\"`.\n",
    "- Pour les décrets, ils sont généralement de la forme suivante : ils commencent par le mot 'décret', avec parfois un D majuscule, puis il peut y avoir soit un numéro indiqué (écrit no ou n°) et contenant des chiffres, des tirets, des points ou des /, puis possède une date de la forme (JJ mois AAAA) avec J et A des chiffres, mois le mois en toute lettre. L'autre forme possible est avec la date directement après le mot décret, de la même forme que pour la première possibilité. Cela donne en regex : `r\"[Dd]écret(?:\\s+n°|\\s+no)?\\s*[\\d\\-/.]+(?:\\s+du\\s+\\d{1,2}(?:er)?\\s+[a-zéû]+\\s+\\d{4})?|[Dd]écret\\s+du\\s+\\d{1,2}(?:er)?\\s+[a-zéû]+\\s+\\d{4}\"`\n",
    "- Pour le code de l'environnement, on peut tenter de récupérer des références aux articles pour pouvoir extraire des références plus précises, dans ce cas, le pattern est : \"article\" + d'éventuels autres articles et des lettres et chiffres faisant référence à l'article, puis le code de l'environnement avec éventuellement un C majusule. Attention, deux types d'apostrophe sont présents. S'il n'y a pas d'article, on tente d'identifier directement la référence au code de l'environnemnet, ce qui donne en tout : `r\"article(.+?)[Cc]ode\\s+de\\s+l[’']environnement|[\\sA-Za-zÀ-ÿ]{2}\\s+[Cc]ode\\s+de\\s+l[’']environnement\"`\n",
    "- Pour les lois, la logique est similaire que pour les décrets, avec optionnellement un numéro de loi ou une date écrite.  En regex : `r\"\\s[Ll]oi(?:\\s+n°|\\s+no)?\\s*[\\d\\-\\s]+(?:du\\s+\\d{1,2}(?:er)?\\s+[a-zéû]+\\s+\\d{4})?\"`\n",
    "- Pour les circulaires, la logique est similaire au décret, avec quelques différences de format des numéros. On essaye également de capter d'éventuels mots entre les deux, qui qualifient la circulaire. En regex : `r\"circulaire[\\sA-Za-zÀ-ÿ]+(?:\\s+n°|\\s+no)(?:[A-Z/\\d]+)\\s+(?:du\\s+\\d{1,2}(?:er)?\\s+[a-zéû]+\\s+\\d{4})?|circulaire[\\sA-Za-zÀ-ÿ]+(?:du\\s+\\d{1,2}(?:er)?\\s+[a-zéû]+\\s+\\d{4})\"`\n",
    "- Pour les arrêtés, la logique est identique à celle des circulaires, ce qui donne en regex : `r\"[Aa]rrêté[\\sA-Aa-zÀ-ÿ]+(?:\\s+n°|\\s+no)\\s*[\\d\\-]+|[Aa]rrêté[\\sA-Aa-zÀ-ÿ]+du\\s+\\d{1,2}(?:er)?\\s+[a-zéû]+\\s+\\d{4}\"`"
   ]
  },
  {
   "cell_type": "markdown",
   "metadata": {},
   "source": [
    "## Comparaisons des fichiers de sorties pour analyse des résultats."
   ]
  },
  {
   "cell_type": "markdown",
   "metadata": {},
   "source": [
    "Afin d'avoir une idée plus générale que d'éplucher les fichiers, on peut comparer les fichiers de résultat et de data pour évaluer la précision de la méthode par regex"
   ]
  },
  {
   "cell_type": "code",
   "execution_count": 48,
   "metadata": {},
   "outputs": [],
   "source": [
    "def compare(Loi):\n",
    "    root = \"./data/\"\n",
    "    data_dirs = root + 'data/'\n",
    "    sub_data_dirs = next(os.walk(data_dirs))[1]\n",
    "    res_dirs = root + 'results/'\n",
    "    original = [] # on récupère le texte des exemples dans une liste\n",
    "    results = []\n",
    "    for sub_data_dir in sub_data_dirs:\n",
    "        file_names = next(os.walk(data_dirs + sub_data_dir + '/'))[2]\n",
    "        for file_name in file_names:\n",
    "            data_path = data_dirs + sub_data_dir + '/' + file_name\n",
    "            res_data_path = res_dirs + sub_data_dir + '/' + file_name[:-5] + '_results.html'\n",
    "            with open(data_path, 'r') as file_content:\n",
    "                soup = bs4.BeautifulSoup(file_content, 'html')   \n",
    "                whole_text = soup.find_all(['div', 'td', 'h2'])\n",
    "                for tag in whole_text:\n",
    "                    if(find_regex(Loi, tag.text)[0]):\n",
    "                        original.append(tag.text)\n",
    "\n",
    "            with open(res_data_path, 'r') as file_content:\n",
    "                soup = bs4.BeautifulSoup(file_content, 'html')   \n",
    "                whole_text = soup.find_all(['div', 'td', 'h2'])\n",
    "                for tag in whole_text:\n",
    "                    if(find_regex(Loi, tag.text)[0]):\n",
    "                        results.append(tag.text)\n",
    "    return(original, results)\n",
    "                "
   ]
  },
  {
   "cell_type": "code",
   "execution_count": 50,
   "metadata": {},
   "outputs": [],
   "source": [
    "original, result = compare(r\"code de l'environnement\")"
   ]
  }
 ],
 "metadata": {
  "kernelspec": {
   "display_name": "base",
   "language": "python",
   "name": "python3"
  },
  "language_info": {
   "codemirror_mode": {
    "name": "ipython",
    "version": 3
   },
   "file_extension": ".py",
   "mimetype": "text/x-python",
   "name": "python",
   "nbconvert_exporter": "python",
   "pygments_lexer": "ipython3",
   "version": "3.9.13"
  }
 },
 "nbformat": 4,
 "nbformat_minor": 2
}
